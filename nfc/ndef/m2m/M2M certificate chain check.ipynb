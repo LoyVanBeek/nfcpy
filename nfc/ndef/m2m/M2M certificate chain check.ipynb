{
 "cells": [
  {
   "cell_type": "code",
   "execution_count": 1,
   "metadata": {
    "collapsed": false
   },
   "outputs": [],
   "source": [
    "from nfc.ndef.m2m import m2m_certificate_format as m2m\n",
    "from nfc.ndef.m2m import x509_to_m2m_conversion"
   ]
  },
  {
   "cell_type": "code",
   "execution_count": 2,
   "metadata": {
    "collapsed": true
   },
   "outputs": [],
   "source": [
    "import base64\n",
    "import binascii\n",
    "from pyasn1.type import univ\n",
    "from pyasn1.codec.der import encoder as der_encoder\n",
    "from pyasn1.codec.der import decoder as der_decoder"
   ]
  },
  {
   "cell_type": "code",
   "execution_count": 3,
   "metadata": {
    "collapsed": false
   },
   "outputs": [],
   "source": [
    "m2m_cert = m2m.m2m_certificate_from_file(\"m2m_certificate.pem\")"
   ]
  },
  {
   "cell_type": "markdown",
   "metadata": {},
   "source": [
    "Below, note that the decoded result is only the Sequence of TBSCertificate, rather than the [Application 20] IMPLICIT SEQUENCE that is the full Certificate. \n",
    "\n",
    "This means the rest of the secuance is omitted, e.g. the signature of the now Signed certificate. "
   ]
  },
  {
   "cell_type": "code",
   "execution_count": 4,
   "metadata": {
    "collapsed": false
   },
   "outputs": [
    {
     "name": "stdout",
     "output_type": "stream",
     "text": [
      "Sequence:\n",
      " <no-name>=0\n",
      " <no-name>=0x00000000000000000000000000000000075bcd15\n",
      " <no-name>=1.2.840.10045.4.3.2\n",
      " <no-name>=0x06082a8648ce3d030107\n",
      " <no-name>=Sequence:\n",
      "  <no-name>=b'US'\n",
      "  <no-name>=b'ACME corp.'\n",
      "  <no-name>=b'Fairfield'\n",
      "\n",
      " <no-name>=Sequence:\n",
      "  <no-name>=b'US'\n",
      "  <no-name>=b'ACME corp.'\n",
      "  <no-name>=b'Fairfield'\n",
      "\n",
      " <no-name>=1.2.840.10045.4.3.2\n",
      " <no-name>=0x3059301306072a8648ce3d020106082a8648ce3d03010703420004c828d5ab30ea0a7e4a4b6418983e9b09a8d8d4bf3e95aff9d282520f0e672999bdcea794231c29976d791b3f9a78124e107102d3a7c78e76f74cd75072ed5a2a\n",
      " <no-name>=0x01\n",
      " <no-name>=0xa0\n",
      " <no-name>=2.5.29.32.0\n",
      " <no-name>=2.16.840.1.114513.29.37\n",
      "\n"
     ]
    },
    {
     "data": {
      "text/plain": [
       "b'0Y0\\x13\\x06\\x07*\\x86H\\xce=\\x02\\x01\\x06\\x08*\\x86H\\xce=\\x03\\x01\\x07\\x03B\\x00\\x04\\xc8(\\xd5\\xab0\\xea\\n~JKd\\x18\\x98>\\x9b\\t\\xa8\\xd8\\xd4\\xbf>\\x95\\xaf\\xf9\\xd2\\x82R\\x0f\\x0eg)\\x99\\xbd\\xce\\xa7\\x94#\\x1c)\\x97my\\x1b?\\x9ax\\x12N\\x10q\\x02\\xd3\\xa7\\xc7\\x8ev\\xf7L\\xd7Pr\\xedZ*'"
      ]
     },
     "execution_count": 4,
     "metadata": {},
     "output_type": "execute_result"
    }
   ],
   "source": [
    "print(m2m_cert.prettyPrint())\n",
    "pubkey = bytes(m2m_cert[7]) # This is a hardcoded value, only known because pubkey happens to be the 7th field due to some optionals not being ued\n",
    "pubkey"
   ]
  },
  {
   "cell_type": "code",
   "execution_count": 5,
   "metadata": {
    "collapsed": false
   },
   "outputs": [],
   "source": [
    "signature = b'0E\\x02!\\x00\\xf9%y\\xe3p\\xf9\\xadC$\\x97\\xc8\\xec\\xee\\xff\\xab\\x90\\x0e\\xd6\\t\\xf6J\\xaa+\\xc5B\\xe2c\\x01\\xc9,*\\xd1\\x02 B\\x87\\x1d6\\xb9\\x0f\\xccN\\x9b\\xa2~\\xd4n\\xdc\\xc5A\\xc0\\x9b<c\\xba\\xaf\\x1b\\xdc\\x1b\\tE\\x82\\xc9K\\x89J'"
   ]
  },
  {
   "cell_type": "code",
   "execution_count": 6,
   "metadata": {
    "collapsed": false
   },
   "outputs": [],
   "source": [
    "bytes_to_sign = b'\\x9c\\x15l\\x01ultimaker.nl:material1\\x00\\x000451BD6A154A81A\\xd5\\xe6\\xcc!\\xa1\\xe5\\xcd\\xfe\\x15\\xed\\x8a3\\xc3OW\\xa2\\xa7\\xb4\\xb7\\x8a8\\xc3\\xcb\\x00\\x00TESTBATCH\\x00\\x00\\x00\\x00\\x00\\x00\\x00\\x00\\x00\\x00\\x00\\x00\\x00\\x00\\x00\\x00\\x00\\x00\\x00\\x00\\x00\\x00\\x00\\x00\\x00\\x00\\x00\\x00\\x00\\x00\\x00\\x00\\x00\\x00\\x00\\x00\\x00\\x00\\x00\\x00\\x00\\x00\\x00\\x00\\x00\\x00\\x00\\x00\\x00\\x00\\x00\\x00\\x00\\x00\\x00\\x00\\x00'"
   ]
  },
  {
   "cell_type": "markdown",
   "metadata": {},
   "source": [
    "So, now we must check that the signature matches with the public key and the bytes_to_sign"
   ]
  },
  {
   "cell_type": "code",
   "execution_count": 7,
   "metadata": {
    "collapsed": false
   },
   "outputs": [
    {
     "data": {
      "text/plain": [
       "True"
      ]
     },
     "execution_count": 7,
     "metadata": {},
     "output_type": "execute_result"
    }
   ],
   "source": [
    "m2m.verify_signature(bytes_to_sign, signature, public_key_path='public.pem')"
   ]
  },
  {
   "cell_type": "code",
   "execution_count": 8,
   "metadata": {
    "collapsed": false
   },
   "outputs": [
    {
     "name": "stdout",
     "output_type": "stream",
     "text": [
      "b'04483046022100a106708f42cebf29f6080c0535818d7a6461150b23474e45819f495bcaa77804022100a161b744c1ca01f7d938af7e41143488652bdbd63c352c426228dd8b00ea9e9e'\n",
      "\n",
      "cACalcValue = 0x3046022100a106708f42cebf29f6080c0535818d7a6461150b23474e45819f495bcaa77804022100a161b744c1ca01f7d938af7e41143488652bdbd63c352c426228dd8b00ea9e9e\n",
      "\n",
      "Signature integers: Sequence:\n",
      " <no-name>=72833746562193434703155487150859005291729736000969498120385690645925387008004\n",
      " <no-name>=72995017660455601282376060995272935200071354704479255565849720793553758232222\n",
      "\n"
     ]
    }
   ],
   "source": [
    "def signature_from_m2m_pem(pem_path):\n",
    "    cert_bytes = m2m.m2m_bytes_from_file(pem_path)\n",
    "    decoded = der_decoder.decode(cert_bytes)\n",
    "    certificate = decoded[0]\n",
    "    \n",
    "    reencoded = der_encoder.encode(certificate)\n",
    "    # Because we only get back thr TBScertificate, \n",
    "    # see how long that is (when encoded) and extract the rest of the original bytes. \n",
    "    # That encodes the signature. \n",
    "    rest = cert_bytes[len(reencoded)+1:] \n",
    "#     signature_der = der_decoder.decode(rest)[0]\n",
    "    return rest\n",
    "\n",
    "signature = signature_from_m2m_pem(\"m2m_certificate.pem\")\n",
    "print(binascii.hexlify(signature))\n",
    "print()\n",
    "\n",
    "decoded_sig = der_decoder.decode(signature)[0]\n",
    "print(\"cACalcValue = \"+decoded_sig.prettyPrint())\n",
    "print()\n",
    "signature_int_seq = der_decoder.decode(decoded_sig.asOctets())[0]\n",
    "print(\"Signature integers: \"+signature_int_seq.prettyPrint())"
   ]
  },
  {
   "cell_type": "code",
   "execution_count": 9,
   "metadata": {
    "collapsed": false
   },
   "outputs": [
    {
     "name": "stdout",
     "output_type": "stream",
     "text": [
      "Sequence:\n",
      " <no-name>=0\n",
      " <no-name>=0x00000000000000000000000000000000075bcd15\n",
      " <no-name>=1.2.840.10045.4.3.2\n",
      " <no-name>=0x06082a8648ce3d030107\n",
      " <no-name>=Sequence:\n",
      "  <no-name>=b'US'\n",
      "  <no-name>=b'ACME corp.'\n",
      "  <no-name>=b'Fairfield'\n",
      "\n",
      " <no-name>=Sequence:\n",
      "  <no-name>=b'US'\n",
      "  <no-name>=b'ACME corp.'\n",
      "  <no-name>=b'Fairfield'\n",
      "\n",
      " <no-name>=1.2.840.10045.4.3.2\n",
      " <no-name>=0x3059301306072a8648ce3d020106082a8648ce3d03010703420004c828d5ab30ea0a7e4a4b6418983e9b09a8d8d4bf3e95aff9d282520f0e672999bdcea794231c29976d791b3f9a78124e107102d3a7c78e76f74cd75072ed5a2a\n",
      " <no-name>=0x01\n",
      " <no-name>=0xa0\n",
      " <no-name>=2.5.29.32.0\n",
      " <no-name>=2.16.840.1.114513.29.37\n",
      "\n",
      "b'7481ea3081e7020100041400000000000000000000000000000000075bcd1506082a8648ce3d040302040a06082a8648ce3d030107301b130255530c0a41434d4520636f72702e0c09466169726669656c64301b130255530c0a41434d4520636f72702e0c09466169726669656c6406082a8648ce3d040302045b3059301306072a8648ce3d020106082a8648ce3d03010703420004c828d5ab30ea0a7e4a4b6418983e9b09a8d8d4bf3e95aff9d282520f0e672999bdcea794231c29976d791b3f9a78124e107102d3a7c78e76f74cd75072ed5a2a0401010401a00604551d200006096086480186fe511d25'\n",
      "b'3046022100a106708f42cebf29f6080c0535818d7a6461150b23474e45819f495bcaa77804022100a161b744c1ca01f7d938af7e41143488652bdbd63c352c426228dd8b00ea9e9e'\n"
     ]
    },
    {
     "data": {
      "text/plain": [
       "False"
      ]
     },
     "execution_count": 9,
     "metadata": {},
     "output_type": "execute_result"
    }
   ],
   "source": [
    "m2m_cert = m2m.m2m_certificate_from_file(\"m2m_certificate.pem\")\n",
    "tbs_bytes = der_encoder.encode(m2m_cert)\n",
    "print(m2m_cert.prettyPrint())\n",
    "print(binascii.hexlify(tbs_bytes))\n",
    "sig = decoded_sig.asOctets()\n",
    "print(binascii.hexlify(sig))\n",
    " \n",
    "# Was this cert signed by the CA that has the privkey of this pubkey?\n",
    "m2m.verify_signature(tbs_bytes, sig, \"public.pem\")"
   ]
  },
  {
   "cell_type": "markdown",
   "metadata": {},
   "source": [
    "Next is checking the certificate what is next in the chain, used to sign this M2M certificate. However, I don't have a certificate chain yet, just a single self-signed sertificate. "
   ]
  },
  {
   "cell_type": "code",
   "execution_count": 10,
   "metadata": {
    "collapsed": true
   },
   "outputs": [],
   "source": [
    "from cryptography import x509\n",
    "from cryptography.hazmat.backends import default_backend\n",
    "from cryptography.hazmat.primitives import hashes\n",
    "from cryptography.hazmat.primitives.asymmetric import ec\n",
    "from cryptography.x509.oid import NameOID\n",
    "from cryptography.hazmat.primitives.serialization import Encoding, PublicFormat, PrivateFormat\n",
    "from cryptography.hazmat.primitives.serialization import NoEncryption, KeySerializationEncryption\n",
    "from cryptography.exceptions import InvalidSignature\n",
    "import datetime\n",
    "import uuid\n",
    "\n",
    "one_day = datetime.timedelta(1, 0, 0)"
   ]
  },
  {
   "cell_type": "code",
   "execution_count": 11,
   "metadata": {
    "collapsed": false
   },
   "outputs": [],
   "source": [
    "def certificate_to_pem(certificate, pem_path):\n",
    "    with open(pem_path, 'wb') as pem_file:\n",
    "        pem_file.write(certificate.public_bytes(Encoding.PEM))"
   ]
  },
  {
   "cell_type": "code",
   "execution_count": 12,
   "metadata": {
    "collapsed": false
   },
   "outputs": [],
   "source": [
    "root_private_key = ec.generate_private_key(ec.SECP256R1, default_backend())\n",
    "root_public_key = root_private_key.public_key()\n",
    "\n",
    "builder = x509.CertificateBuilder()\n",
    "builder = builder.subject_name(x509.Name([x509.NameAttribute(NameOID.COMMON_NAME, u'Root')]))\n",
    "builder = builder.issuer_name(x509.Name([x509.NameAttribute(NameOID.COMMON_NAME, u'Root')]))\n",
    "builder = builder.not_valid_before(datetime.datetime.today() - one_day)\n",
    "builder = builder.not_valid_after(datetime.datetime(2018, 8, 2))\n",
    "builder = builder.serial_number(int(uuid.uuid4()))\n",
    "builder = builder.public_key(root_public_key)\n",
    "builder = builder.add_extension(x509.BasicConstraints(ca=False, path_length=None), critical=True)\n",
    "\n",
    "root_certificate = builder.sign(\n",
    "    private_key=root_private_key, \n",
    "    algorithm=hashes.SHA256(),\n",
    "    backend=default_backend())\n",
    "\n",
    "certificate_to_pem(root_certificate, \"root.pem\")"
   ]
  },
  {
   "cell_type": "code",
   "execution_count": 13,
   "metadata": {
    "collapsed": false
   },
   "outputs": [],
   "source": [
    "middle_private_key = ec.generate_private_key(ec.SECP256R1, default_backend())\n",
    "middle_public_key = middle_private_key.public_key()\n",
    "\n",
    "builder = x509.CertificateBuilder()\n",
    "builder = builder.subject_name(x509.Name([x509.NameAttribute(NameOID.COMMON_NAME, u'Middle')]))\n",
    "builder = builder.issuer_name(x509.Name([x509.NameAttribute(NameOID.COMMON_NAME, u'Root')]))\n",
    "builder = builder.not_valid_before(datetime.datetime.today() - one_day)\n",
    "builder = builder.not_valid_after(datetime.datetime(2018, 8, 2))\n",
    "builder = builder.serial_number(int(uuid.uuid4()))\n",
    "builder = builder.public_key(middle_public_key)\n",
    "builder = builder.add_extension(x509.BasicConstraints(ca=False, path_length=None), critical=True)\n",
    "\n",
    "middle_certificate = builder.sign(\n",
    "    private_key=root_private_key, #The middle cert is signed by the root!\n",
    "    algorithm=hashes.SHA256(),\n",
    "    backend=default_backend())\n",
    "\n",
    "certificate_to_pem(root_certificate, \"middle.pem\")\n",
    "\n",
    "middle_privkey_path = \"/tmp/middle_privkey.key\"\n",
    "with open(middle_privkey_path, 'wb') as middle_privkey_file:\n",
    "    middle_privkey_file.write(middle_private_key.private_bytes(encoding=Encoding.PEM, \n",
    "                                                      encryption_algorithm=NoEncryption(),\n",
    "                                                      format=PrivateFormat.PKCS8))"
   ]
  },
  {
   "cell_type": "code",
   "execution_count": 14,
   "metadata": {
    "collapsed": false
   },
   "outputs": [],
   "source": [
    "leaf_private_key = ec.generate_private_key(ec.SECP256R1, default_backend())\n",
    "leaf_public_key = leaf_private_key.public_key()\n",
    "\n",
    "builder = x509.CertificateBuilder()\n",
    "builder = builder.subject_name(x509.Name([x509.NameAttribute(NameOID.COMMON_NAME, u'Leaf')]))\n",
    "builder = builder.issuer_name(x509.Name([x509.NameAttribute(NameOID.COMMON_NAME, u'Middle')]))\n",
    "builder = builder.not_valid_before(datetime.datetime.today() - one_day)\n",
    "builder = builder.not_valid_after(datetime.datetime(2018, 8, 2))\n",
    "builder = builder.serial_number(int(uuid.uuid4()))\n",
    "builder = builder.public_key(leaf_public_key)\n",
    "builder = builder.add_extension(x509.BasicConstraints(ca=False, path_length=None), critical=True)\n",
    "\n",
    "leaf_certificate = builder.sign(\n",
    "    private_key=middle_private_key, #The leaf cert is signed by the middle \n",
    "    algorithm=hashes.SHA256(),\n",
    "    backend=default_backend())\n",
    "\n",
    "certificate_to_pem(root_certificate, \"leaf.pem\")\n",
    "\n",
    "pubkey_path = \"/tmp/pubkey.key\"\n",
    "with open(pubkey_path, 'wb') as pubkey_file:\n",
    "    pubkey_file.write(leaf_public_key.public_bytes(Encoding.PEM, PublicFormat.SubjectPublicKeyInfo))\n",
    "    \n",
    "privkey_path = \"/tmp/privkey.key\"\n",
    "with open(privkey_path, 'wb') as privkey_file:\n",
    "    privkey_file.write(leaf_private_key.private_bytes(encoding=Encoding.PEM, \n",
    "                                                      encryption_algorithm=NoEncryption(),\n",
    "                                                      format=PrivateFormat.PKCS8))\n",
    "\n",
    "x509_to_m2m_conversion.M2mConverter.x509_pem_to_m2m_pem(\"leaf.pem\", \"leaf.m2m.pem\", middle_privkey_path)"
   ]
  },
  {
   "cell_type": "code",
   "execution_count": 15,
   "metadata": {
    "collapsed": true
   },
   "outputs": [],
   "source": [
    "# The root certificate is not to be included according to the M2M spec, but we do here for ease\n",
    "chain = {leaf_certificate:middle_certificate, \n",
    "         middle_certificate:root_certificate, \n",
    "         root_certificate:root_certificate} # Each certificate links to the certificate it was signed with"
   ]
  },
  {
   "cell_type": "code",
   "execution_count": 16,
   "metadata": {
    "collapsed": false
   },
   "outputs": [],
   "source": [
    "signature = m2m.generate_signature(bytes_to_sign, private_key_path=privkey_path)"
   ]
  },
  {
   "cell_type": "code",
   "execution_count": 17,
   "metadata": {
    "collapsed": false
   },
   "outputs": [
    {
     "data": {
      "text/plain": [
       "b'0E\\x02!\\x00\\xae\\x80\\xd6\\xdcf\\xbc\\xe5\\xf3\\xef\\x1d<\\xe4\\x07C\\x14\\xf5C\\xf2\\x8f%\\x88\\\\5\\xe3\\xcb|\\x89\\xb9\\x8f\\x12^*\\x02 )\\x81W\\xc7>\\x19\\xe7\\xc1\\x05/\\x1f:\\x07\\x1a\\xf9e\\xc7\\xbf\\xac\\xf6\\t\\xafs#iG\\x83H\\xee$\\x802'"
      ]
     },
     "execution_count": 17,
     "metadata": {},
     "output_type": "execute_result"
    }
   ],
   "source": [
    "signature"
   ]
  },
  {
   "cell_type": "code",
   "execution_count": 18,
   "metadata": {
    "collapsed": false
   },
   "outputs": [
    {
     "data": {
      "text/plain": [
       "True"
      ]
     },
     "execution_count": 18,
     "metadata": {},
     "output_type": "execute_result"
    }
   ],
   "source": [
    "signature_OK = m2m.verify_signature(bytes_to_sign, signature, public_key_path=pubkey_path)\n",
    "signature_OK"
   ]
  },
  {
   "cell_type": "code",
   "execution_count": 19,
   "metadata": {
    "collapsed": false
   },
   "outputs": [],
   "source": [
    "verified = middle_certificate.public_key().verify(\n",
    "    signature=leaf_certificate.signature,\n",
    "    data=leaf_certificate.tbs_certificate_bytes,\n",
    "    signature_algorithm=ec.ECDSA(algorithm=hashes.SHA256()))"
   ]
  },
  {
   "cell_type": "code",
   "execution_count": 20,
   "metadata": {
    "collapsed": false
   },
   "outputs": [
    {
     "name": "stdout",
     "output_type": "stream",
     "text": [
      "OK\n"
     ]
    }
   ],
   "source": [
    "# $ openssl verify -CAfile root.pem -untrusted middle.pem leaf.pem\n",
    "def verify_certificate_by_signer(certificate, signer):\n",
    "    # TODO: check that no certificate is on a Certificate Revocation List (CRL)\n",
    "    try:\n",
    "        signer.public_key().verify(signature=certificate.signature,\n",
    "                                 data=certificate.tbs_certificate_bytes,\n",
    "                                 signature_algorithm=ec.ECDSA(algorithm=hashes.SHA256()))\n",
    "    except InvalidSignature as bad_sig:\n",
    "        print(certificate, signer)\n",
    "        raise bad_sig\n",
    "\n",
    "# Link each issuer name to its certificate\n",
    "issuers = {\"Leaf\":leaf_certificate,\n",
    "           \"Middle\":middle_certificate,\n",
    "           \"Root\":root_certificate}\n",
    "    \n",
    "def verify_chain(certificate):\n",
    "    issuer_name = certificate.issuer.get_attributes_for_oid(NameOID.COMMON_NAME)[0].value\n",
    "    issuer_certificate = issuers[issuer_name]\n",
    "    verify_certificate_by_signer(certificate, issuer_certificate)\n",
    "    \n",
    "    if not issuer_certificate == certificate:\n",
    "        verify_chain(issuer_certificate)\n",
    "    \n",
    "verify_chain(leaf_certificate)\n",
    "print(\"OK\")"
   ]
  }
 ],
 "metadata": {
  "kernelspec": {
   "display_name": "Python 3",
   "language": "python",
   "name": "python3"
  },
  "language_info": {
   "codemirror_mode": {
    "name": "ipython",
    "version": 3
   },
   "file_extension": ".py",
   "mimetype": "text/x-python",
   "name": "python",
   "nbconvert_exporter": "python",
   "pygments_lexer": "ipython3",
   "version": "3.5.2"
  }
 },
 "nbformat": 4,
 "nbformat_minor": 0
}

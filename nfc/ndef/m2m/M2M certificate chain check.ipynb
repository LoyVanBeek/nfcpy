{
 "cells": [
  {
   "cell_type": "code",
   "execution_count": 88,
   "metadata": {
    "collapsed": false
   },
   "outputs": [],
   "source": [
    "from nfc.ndef.m2m import m2m_certificate_format as m2m\n",
    "from nfc.ndef.m2m import x509_to_m2m_conversion"
   ]
  },
  {
   "cell_type": "code",
   "execution_count": 89,
   "metadata": {
    "collapsed": true
   },
   "outputs": [],
   "source": [
    "import base64\n",
    "import binascii\n",
    "from pyasn1.type import univ\n",
    "from pyasn1.codec.der import encoder as der_encoder\n",
    "from pyasn1.codec.der import decoder as der_decoder"
   ]
  },
  {
   "cell_type": "code",
   "execution_count": 90,
   "metadata": {
    "collapsed": false
   },
   "outputs": [],
   "source": [
    "m2m_cert = m2m.m2m_certificate_from_file(\"m2m_certificate.pem\")"
   ]
  },
  {
   "cell_type": "code",
   "execution_count": 91,
   "metadata": {
    "collapsed": false
   },
   "outputs": [
    {
     "name": "stdout",
     "output_type": "stream",
     "text": [
      "Sequence:\n",
      " <no-name>=0\n",
      " <no-name>=0x00000000000000000000000000000000075bcd15\n",
      " <no-name>=1.2.840.10045.4.3.2\n",
      " <no-name>=0x06082a8648ce3d030107\n",
      " <no-name>=Sequence:\n",
      "  <no-name>=b'US'\n",
      "  <no-name>=b'ACME corp.'\n",
      "  <no-name>=b'Fairfield'\n",
      "\n",
      " <no-name>=Sequence:\n",
      "  <no-name>=b'US'\n",
      "  <no-name>=b'ACME corp.'\n",
      "  <no-name>=b'Fairfield'\n",
      "\n",
      " <no-name>=1.2.840.10045.4.3.2\n",
      " <no-name>=0x3059301306072a8648ce3d020106082a8648ce3d03010703420004c828d5ab30ea0a7e4a4b6418983e9b09a8d8d4bf3e95aff9d282520f0e672999bdcea794231c29976d791b3f9a78124e107102d3a7c78e76f74cd75072ed5a2a\n",
      " <no-name>=0x01\n",
      " <no-name>=0xa0\n",
      " <no-name>=2.5.29.32.0\n",
      " <no-name>=2.16.840.1.114513.29.37\n",
      "\n"
     ]
    },
    {
     "data": {
      "text/plain": [
       "b'0Y0\\x13\\x06\\x07*\\x86H\\xce=\\x02\\x01\\x06\\x08*\\x86H\\xce=\\x03\\x01\\x07\\x03B\\x00\\x04\\xc8(\\xd5\\xab0\\xea\\n~JKd\\x18\\x98>\\x9b\\t\\xa8\\xd8\\xd4\\xbf>\\x95\\xaf\\xf9\\xd2\\x82R\\x0f\\x0eg)\\x99\\xbd\\xce\\xa7\\x94#\\x1c)\\x97my\\x1b?\\x9ax\\x12N\\x10q\\x02\\xd3\\xa7\\xc7\\x8ev\\xf7L\\xd7Pr\\xedZ*'"
      ]
     },
     "execution_count": 91,
     "metadata": {},
     "output_type": "execute_result"
    }
   ],
   "source": [
    "print(m2m_cert.prettyPrint())\n",
    "pubkey = bytes(m2m_cert[7]) # This is a hardcoded value, only known because pubkey happens to be the 7th field due to some optionals not being ued\n",
    "pubkey"
   ]
  },
  {
   "cell_type": "code",
   "execution_count": 106,
   "metadata": {
    "collapsed": false
   },
   "outputs": [],
   "source": [
    "signature = b'0E\\x02!\\x00\\xf9%y\\xe3p\\xf9\\xadC$\\x97\\xc8\\xec\\xee\\xff\\xab\\x90\\x0e\\xd6\\t\\xf6J\\xaa+\\xc5B\\xe2c\\x01\\xc9,*\\xd1\\x02 B\\x87\\x1d6\\xb9\\x0f\\xccN\\x9b\\xa2~\\xd4n\\xdc\\xc5A\\xc0\\x9b<c\\xba\\xaf\\x1b\\xdc\\x1b\\tE\\x82\\xc9K\\x89J'"
   ]
  },
  {
   "cell_type": "code",
   "execution_count": 107,
   "metadata": {
    "collapsed": false
   },
   "outputs": [],
   "source": [
    "bytes_to_sign = b'\\x9c\\x15l\\x01ultimaker.nl:material1\\x00\\x000451BD6A154A81A\\xd5\\xe6\\xcc!\\xa1\\xe5\\xcd\\xfe\\x15\\xed\\x8a3\\xc3OW\\xa2\\xa7\\xb4\\xb7\\x8a8\\xc3\\xcb\\x00\\x00TESTBATCH\\x00\\x00\\x00\\x00\\x00\\x00\\x00\\x00\\x00\\x00\\x00\\x00\\x00\\x00\\x00\\x00\\x00\\x00\\x00\\x00\\x00\\x00\\x00\\x00\\x00\\x00\\x00\\x00\\x00\\x00\\x00\\x00\\x00\\x00\\x00\\x00\\x00\\x00\\x00\\x00\\x00\\x00\\x00\\x00\\x00\\x00\\x00\\x00\\x00\\x00\\x00\\x00\\x00\\x00\\x00\\x00\\x00'"
   ]
  },
  {
   "cell_type": "markdown",
   "metadata": {},
   "source": [
    "So, now we must check that the signature matches with the public key and the bytes_to_sign"
   ]
  },
  {
   "cell_type": "code",
   "execution_count": 108,
   "metadata": {
    "collapsed": false
   },
   "outputs": [
    {
     "data": {
      "text/plain": [
       "True"
      ]
     },
     "execution_count": 108,
     "metadata": {},
     "output_type": "execute_result"
    }
   ],
   "source": [
    "m2m.verify_signature(bytes_to_sign, signature, public_key_path='public.pem')"
   ]
  },
  {
   "cell_type": "markdown",
   "metadata": {},
   "source": [
    "Next is checking the certificate what is next in the chain, used to sign this M2M certificate. However, I don't have a certificate chain yet, just a single self-signed sertificate. "
   ]
  },
  {
   "cell_type": "code",
   "execution_count": 95,
   "metadata": {
    "collapsed": true
   },
   "outputs": [],
   "source": [
    "from cryptography import x509\n",
    "from cryptography.hazmat.backends import default_backend\n",
    "from cryptography.hazmat.primitives import hashes\n",
    "from cryptography.hazmat.primitives.asymmetric import ec\n",
    "from cryptography.x509.oid import NameOID\n",
    "from cryptography.hazmat.primitives.serialization import Encoding, PublicFormat, PrivateFormat\n",
    "from cryptography.hazmat.primitives.serialization import NoEncryption, KeySerializationEncryption\n",
    "from cryptography.exceptions import InvalidSignature\n",
    "import datetime\n",
    "import uuid\n",
    "\n",
    "one_day = datetime.timedelta(1, 0, 0)"
   ]
  },
  {
   "cell_type": "code",
   "execution_count": 96,
   "metadata": {
    "collapsed": false
   },
   "outputs": [],
   "source": [
    "def certificate_to_pem(certificate, pem_path):\n",
    "    with open(pem_path, 'wb') as pem_file:\n",
    "        pem_file.write(certificate.public_bytes(Encoding.PEM))"
   ]
  },
  {
   "cell_type": "code",
   "execution_count": 97,
   "metadata": {
    "collapsed": false
   },
   "outputs": [],
   "source": [
    "root_private_key = ec.generate_private_key(ec.SECP256R1, default_backend())\n",
    "root_public_key = root_private_key.public_key()\n",
    "\n",
    "builder = x509.CertificateBuilder()\n",
    "builder = builder.subject_name(x509.Name([x509.NameAttribute(NameOID.COMMON_NAME, u'Root')]))\n",
    "builder = builder.issuer_name(x509.Name([x509.NameAttribute(NameOID.COMMON_NAME, u'Root')]))\n",
    "builder = builder.not_valid_before(datetime.datetime.today() - one_day)\n",
    "builder = builder.not_valid_after(datetime.datetime(2018, 8, 2))\n",
    "builder = builder.serial_number(int(uuid.uuid4()))\n",
    "builder = builder.public_key(root_public_key)\n",
    "builder = builder.add_extension(x509.BasicConstraints(ca=False, path_length=None), critical=True)\n",
    "\n",
    "root_certificate = builder.sign(\n",
    "    private_key=root_private_key, \n",
    "    algorithm=hashes.SHA256(),\n",
    "    backend=default_backend())\n",
    "\n",
    "certificate_to_pem(root_certificate, \"root.pem\")"
   ]
  },
  {
   "cell_type": "code",
   "execution_count": 98,
   "metadata": {
    "collapsed": false
   },
   "outputs": [],
   "source": [
    "middle_private_key = ec.generate_private_key(ec.SECP256R1, default_backend())\n",
    "middle_public_key = middle_private_key.public_key()\n",
    "\n",
    "builder = x509.CertificateBuilder()\n",
    "builder = builder.subject_name(x509.Name([x509.NameAttribute(NameOID.COMMON_NAME, u'Middle')]))\n",
    "builder = builder.issuer_name(x509.Name([x509.NameAttribute(NameOID.COMMON_NAME, u'Root')]))\n",
    "builder = builder.not_valid_before(datetime.datetime.today() - one_day)\n",
    "builder = builder.not_valid_after(datetime.datetime(2018, 8, 2))\n",
    "builder = builder.serial_number(int(uuid.uuid4()))\n",
    "builder = builder.public_key(middle_public_key)\n",
    "builder = builder.add_extension(x509.BasicConstraints(ca=False, path_length=None), critical=True)\n",
    "\n",
    "middle_certificate = builder.sign(\n",
    "    private_key=root_private_key, #The middle cert is signed by the root!\n",
    "    algorithm=hashes.SHA256(),\n",
    "    backend=default_backend())\n",
    "\n",
    "certificate_to_pem(root_certificate, \"middle.pem\")\n",
    "\n",
    "middle_privkey_path = \"/tmp/middle_privkey.key\"\n",
    "with open(middle_privkey_path, 'wb') as middle_privkey_file:\n",
    "    middle_privkey_file.write(middle_private_key.private_bytes(encoding=Encoding.PEM, \n",
    "                                                      encryption_algorithm=NoEncryption(),\n",
    "                                                      format=PrivateFormat.PKCS8))"
   ]
  },
  {
   "cell_type": "code",
   "execution_count": 99,
   "metadata": {
    "collapsed": false
   },
   "outputs": [],
   "source": [
    "leaf_private_key = ec.generate_private_key(ec.SECP256R1, default_backend())\n",
    "leaf_public_key = leaf_private_key.public_key()\n",
    "\n",
    "builder = x509.CertificateBuilder()\n",
    "builder = builder.subject_name(x509.Name([x509.NameAttribute(NameOID.COMMON_NAME, u'Leaf')]))\n",
    "builder = builder.issuer_name(x509.Name([x509.NameAttribute(NameOID.COMMON_NAME, u'Middle')]))\n",
    "builder = builder.not_valid_before(datetime.datetime.today() - one_day)\n",
    "builder = builder.not_valid_after(datetime.datetime(2018, 8, 2))\n",
    "builder = builder.serial_number(int(uuid.uuid4()))\n",
    "builder = builder.public_key(leaf_public_key)\n",
    "builder = builder.add_extension(x509.BasicConstraints(ca=False, path_length=None), critical=True)\n",
    "\n",
    "leaf_certificate = builder.sign(\n",
    "    private_key=middle_private_key, #The leaf cert is signed by the middle \n",
    "    algorithm=hashes.SHA256(),\n",
    "    backend=default_backend())\n",
    "\n",
    "certificate_to_pem(root_certificate, \"leaf.pem\")\n",
    "\n",
    "pubkey_path = \"/tmp/pubkey.key\"\n",
    "with open(pubkey_path, 'wb') as pubkey_file:\n",
    "    pubkey_file.write(leaf_public_key.public_bytes(Encoding.PEM, PublicFormat.SubjectPublicKeyInfo))\n",
    "    \n",
    "privkey_path = \"/tmp/privkey.key\"\n",
    "with open(privkey_path, 'wb') as privkey_file:\n",
    "    privkey_file.write(leaf_private_key.private_bytes(encoding=Encoding.PEM, \n",
    "                                                      encryption_algorithm=NoEncryption(),\n",
    "                                                      format=PrivateFormat.PKCS8))\n",
    "\n",
    "x509_to_m2m_conversion.M2mConverter.x509_pem_to_m2m_pem(\"leaf.pem\", \"leaf.m2m.pem\", middle_privkey_path)"
   ]
  },
  {
   "cell_type": "code",
   "execution_count": 100,
   "metadata": {
    "collapsed": true
   },
   "outputs": [],
   "source": [
    "# The root certificate is not to be included according to the M2M spec, but we do here for ease\n",
    "chain = {leaf_certificate:middle_certificate, \n",
    "         middle_certificate:root_certificate, \n",
    "         root_certificate:root_certificate} # Each certificate linsk to the certificate it was signed with"
   ]
  },
  {
   "cell_type": "code",
   "execution_count": 101,
   "metadata": {
    "collapsed": false
   },
   "outputs": [],
   "source": [
    "signature = m2m.generate_signature(bytes_to_sign, private_key_path=privkey_path)"
   ]
  },
  {
   "cell_type": "code",
   "execution_count": 102,
   "metadata": {
    "collapsed": false
   },
   "outputs": [
    {
     "data": {
      "text/plain": [
       "b'0F\\x02!\\x00\\xf4\\x06\\xe1\\xad;\\xdc;\\x80k\\x14\\x9b\\xbdXv\\xee\\xbc\\x96s\\xc9\\x9a\\x18\\x9c/1-P\\xd0\\x9b\\x90\\xc8$\\x8b\\x02!\\x00\\xfaZ\\xaf\\xb7\\xa4\\xc4\\xcf\\x80MOJ\\xc2\\xa0?\\xf3{\\x9f\\xa4X\\x1dx\\x91\\xea\\x8e\\ta\\xb9,\\xa68\\xb7\\xbd'"
      ]
     },
     "execution_count": 102,
     "metadata": {},
     "output_type": "execute_result"
    }
   ],
   "source": [
    "signature"
   ]
  },
  {
   "cell_type": "code",
   "execution_count": 103,
   "metadata": {
    "collapsed": false
   },
   "outputs": [
    {
     "data": {
      "text/plain": [
       "True"
      ]
     },
     "execution_count": 103,
     "metadata": {},
     "output_type": "execute_result"
    }
   ],
   "source": [
    "signature_OK = m2m.verify_signature(bytes_to_sign, signature, public_key_path=pubkey_path)\n",
    "signature_OK"
   ]
  },
  {
   "cell_type": "code",
   "execution_count": 104,
   "metadata": {
    "collapsed": false
   },
   "outputs": [],
   "source": [
    "verified = middle_certificate.public_key().verify(\n",
    "    signature=leaf_certificate.signature,\n",
    "    data=leaf_certificate.tbs_certificate_bytes,\n",
    "    signature_algorithm=ec.ECDSA(algorithm=hashes.SHA256()))"
   ]
  },
  {
   "cell_type": "code",
   "execution_count": 105,
   "metadata": {
    "collapsed": false
   },
   "outputs": [],
   "source": [
    "# $ openssl verify -CAfile root.pem -untrusted middle.pem leaf.pem\n",
    "def verify_certificate_by_signer(certificate, signer):\n",
    "    # TODO: check that no certificate is on a Certificate Revocation List (CRL)\n",
    "    try:\n",
    "        signer.public_key().verify(signature=certificate.signature,\n",
    "                                 data=certificate.tbs_certificate_bytes,\n",
    "                                 signature_algorithm=ec.ECDSA(algorithm=hashes.SHA256()))\n",
    "    except InvalidSignature as bad_sig:\n",
    "        print(certificate, signer)\n",
    "        raise bad_sig\n",
    "\n",
    "# Link each issuer name to its certificate\n",
    "issuers = {\"Leaf\":leaf_certificate,\n",
    "           \"Middle\":middle_certificate,\n",
    "           \"Root\":root_certificate}\n",
    "    \n",
    "def verify_chain(certificate):\n",
    "    issuer_name = certificate.issuer.get_attributes_for_oid(NameOID.COMMON_NAME)[0].value\n",
    "    issuer_certificate = issuers[issuer_name]\n",
    "    verify_certificate_by_signer(certificate, issuer_certificate)\n",
    "    \n",
    "    if not issuer_certificate == certificate:\n",
    "        verify_chain(issuer_certificate)\n",
    "    \n",
    "verify_chain(leaf_certificate)"
   ]
  },
  {
   "cell_type": "code",
   "execution_count": null,
   "metadata": {
    "collapsed": false
   },
   "outputs": [],
   "source": []
  },
  {
   "cell_type": "code",
   "execution_count": null,
   "metadata": {
    "collapsed": true
   },
   "outputs": [],
   "source": []
  }
 ],
 "metadata": {
  "kernelspec": {
   "display_name": "Python 3",
   "language": "python",
   "name": "python3"
  },
  "language_info": {
   "codemirror_mode": {
    "name": "ipython",
    "version": 3
   },
   "file_extension": ".py",
   "mimetype": "text/x-python",
   "name": "python",
   "nbconvert_exporter": "python",
   "pygments_lexer": "ipython3",
   "version": "3.5.1+"
  }
 },
 "nbformat": 4,
 "nbformat_minor": 0
}

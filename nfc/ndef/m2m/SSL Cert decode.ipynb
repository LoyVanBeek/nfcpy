{
 "cells": [
  {
   "cell_type": "code",
   "execution_count": 1,
   "metadata": {
    "collapsed": true
   },
   "outputs": [],
   "source": [
    "from nfc.ndef.m2m import m2m_certificate_format as m2m\n",
    "from nfc.ndef.m2m import x509_to_m2m_conversion"
   ]
  },
  {
   "cell_type": "code",
   "execution_count": 2,
   "metadata": {
    "collapsed": true
   },
   "outputs": [],
   "source": [
    "import base64\n",
    "import binascii\n",
    "from pyasn1.type import univ\n",
    "from pyasn1.codec.der import encoder as der_encoder\n",
    "from pyasn1.codec.der import decoder as der_decoder"
   ]
  },
  {
   "cell_type": "code",
   "execution_count": 7,
   "metadata": {
    "collapsed": true
   },
   "outputs": [],
   "source": [
    "cert_bytes = m2m.m2m_bytes_from_file(\"/etc/ssl/certs/GlobalSign_ECC_Root_CA_-_R4.pem\")\n",
    "cert = der_decoder.decode(cert_bytes)[0]"
   ]
  },
  {
   "cell_type": "code",
   "execution_count": 8,
   "metadata": {
    "collapsed": false
   },
   "outputs": [
    {
     "name": "stdout",
     "output_type": "stream",
     "text": [
      "Sequence:\n",
      " <no-name>=Sequence:\n",
      "  <no-name>=2\n",
      "  <no-name>=14367148294922964480859022125800977897474\n",
      "  <no-name>=Sequence:\n",
      "   <no-name>=1.2.840.10045.4.3.2\n",
      "\n",
      "  <no-name>=Sequence:\n",
      "   <no-name>=Set:\n",
      "    <no-name>=Sequence:\n",
      "     <no-name>=2.5.4.11\n",
      "     <no-name>=b'GlobalSign ECC Root CA - R4'\n",
      "\n",
      "\n",
      "   <no-name>=Set:\n",
      "    <no-name>=Sequence:\n",
      "     <no-name>=2.5.4.10\n",
      "     <no-name>=b'GlobalSign'\n",
      "\n",
      "\n",
      "   <no-name>=Set:\n",
      "    <no-name>=Sequence:\n",
      "     <no-name>=2.5.4.3\n",
      "     <no-name>=b'GlobalSign'\n",
      "\n",
      "\n",
      "\n",
      "  <no-name>=Sequence:\n",
      "   <no-name>=b'121113000000Z'\n",
      "   <no-name>=b'380119031407Z'\n",
      "\n",
      "  <no-name>=Sequence:\n",
      "   <no-name>=Set:\n",
      "    <no-name>=Sequence:\n",
      "     <no-name>=2.5.4.11\n",
      "     <no-name>=b'GlobalSign ECC Root CA - R4'\n",
      "\n",
      "\n",
      "   <no-name>=Set:\n",
      "    <no-name>=Sequence:\n",
      "     <no-name>=2.5.4.10\n",
      "     <no-name>=b'GlobalSign'\n",
      "\n",
      "\n",
      "   <no-name>=Set:\n",
      "    <no-name>=Sequence:\n",
      "     <no-name>=2.5.4.3\n",
      "     <no-name>=b'GlobalSign'\n",
      "\n",
      "\n",
      "\n",
      "  <no-name>=Sequence:\n",
      "   <no-name>=Sequence:\n",
      "    <no-name>=1.2.840.10045.2.1\n",
      "    <no-name>=1.2.840.10045.3.1.7\n",
      "\n",
      "   <no-name>=\"'0000010010111000110001100111100111010011100011110110110000100101000011101001111100101110001110010001100100011100000000111010010010101110100110101110010100111001000001110000100100010110110010100110001110110001101110011000011011111000100010100101011111000001010101111100111001000010111110100111001110100001111101110110010101000010111111110001111011000001000000001011001001101110011100110000111011111111110001110010000111100101000110001010010010101010110110010111000100111111101010001101010010111001110011101000110000011101'B\"\n",
      "\n",
      "  <no-name>=Sequence:\n",
      "   <no-name>=Sequence:\n",
      "    <no-name>=2.5.29.15\n",
      "    <no-name>='True'\n",
      "    <no-name>=0x03020106\n",
      "\n",
      "   <no-name>=Sequence:\n",
      "    <no-name>=2.5.29.19\n",
      "    <no-name>='True'\n",
      "    <no-name>=0x30030101ff\n",
      "\n",
      "   <no-name>=Sequence:\n",
      "    <no-name>=2.5.29.14\n",
      "    <no-name>=0x041454b07bad45b8e2407ffb0a6efbbe33c93ca384d5\n",
      "\n",
      "\n",
      "\n",
      " <no-name>=Sequence:\n",
      "  <no-name>=1.2.840.10045.4.3.2\n",
      "\n",
      " <no-name>=\"'0011000001000101000000100010000100000000110111001001001010100001101000000001001110100110110011110000001110110000111001101100010000100001100101111001000011111010000101000101011100101101000000111110110011101110001111001101001101101110110010101010100001101100011101101011110010100010110111101011101100000010001000000010011110101000100001010010011100110101100110110101011011000110101000111111001001000111110100101011011101101110000110110000001000000000000101111010101001100111101001100001010110010001110111101111101010010100111011000111101100001011111110001001111110000100'B\"\n",
      "\n"
     ]
    }
   ],
   "source": [
    "print(cert.prettyPrint())"
   ]
  },
  {
   "cell_type": "code",
   "execution_count": null,
   "metadata": {
    "collapsed": true
   },
   "outputs": [],
   "source": []
  }
 ],
 "metadata": {
  "kernelspec": {
   "display_name": "Python 3",
   "language": "python",
   "name": "python3"
  },
  "language_info": {
   "codemirror_mode": {
    "name": "ipython",
    "version": 3
   },
   "file_extension": ".py",
   "mimetype": "text/x-python",
   "name": "python",
   "nbconvert_exporter": "python",
   "pygments_lexer": "ipython3",
   "version": "3.5.2"
  }
 },
 "nbformat": 4,
 "nbformat_minor": 0
}

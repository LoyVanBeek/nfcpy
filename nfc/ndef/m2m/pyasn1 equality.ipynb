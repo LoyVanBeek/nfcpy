{
 "cells": [
  {
   "cell_type": "code",
   "execution_count": 1,
   "metadata": {
    "collapsed": true
   },
   "outputs": [],
   "source": [
    "import m2m_certificate_format as m2m"
   ]
  },
  {
   "cell_type": "code",
   "execution_count": 2,
   "metadata": {
    "collapsed": true
   },
   "outputs": [],
   "source": [
    "import base64\n",
    "from pyasn1.type import univ\n",
    "from pyasn1.codec.der import encoder as der_encoder\n",
    "from pyasn1.codec.der import decoder as der_decoder"
   ]
  },
  {
   "cell_type": "markdown",
   "metadata": {},
   "source": [
    "# AttributeValue"
   ]
  },
  {
   "cell_type": "code",
   "execution_count": 3,
   "metadata": {
    "collapsed": false
   },
   "outputs": [
    {
     "data": {
      "text/plain": [
       "True"
      ]
     },
     "execution_count": 3,
     "metadata": {},
     "output_type": "execute_result"
    }
   ],
   "source": [
    "orig_attr = m2m.AttributeValue(organization='ACME corp.')\n",
    "encoded_attr = der_encoder.encode(orig_attr)\n",
    "decoded_attr = der_decoder.decode(encoded_attr)[0]\n",
    "\n",
    "orig_attr['organization'] == decoded_attr"
   ]
  },
  {
   "cell_type": "code",
   "execution_count": 4,
   "metadata": {
    "collapsed": false
   },
   "outputs": [
    {
     "name": "stdout",
     "output_type": "stream",
     "text": [
      "['country', 'organization', 'organizationalUnit', 'distinguishedNameQualifier', 'stateOrProvince', 'locality', 'commonName', 'serialNumber', 'domainComponent', 'registeredId', 'octetsName']\n",
      "{'country': None, 'serialNumber': None, 'commonName': None, 'octetsName': None, 'registeredId': None, 'locality': None, 'distinguishedNameQualifier': None, 'organizationalUnit': None, 'organization': UTF8String(b'ACME corp.'), 'stateOrProvince': None, 'domainComponent': None}\n"
     ]
    }
   ],
   "source": [
    "names = [comptype.getName() for comptype in orig_attr.componentType]\n",
    "print(names)\n",
    "\n",
    "dic = {comp:orig_attr[comp] for comp in [comptype.getName() for comptype in orig_attr.componentType]}\n",
    "print(dic)"
   ]
  },
  {
   "cell_type": "code",
   "execution_count": 5,
   "metadata": {
    "collapsed": false
   },
   "outputs": [
    {
     "data": {
      "text/plain": [
       "'organization'"
      ]
     },
     "execution_count": 5,
     "metadata": {},
     "output_type": "execute_result"
    }
   ],
   "source": [
    "def could_match(self, other):\n",
    "    names = [comptype.getName() for comptype in self.componentType]\n",
    "    content_map = {comp:self[comp] for comp in names}\n",
    "    key_values = [(key,val) for key,val in content_map.items() if val]\n",
    "    if key_values:\n",
    "        key, value = key_values[0]\n",
    "        if value == other:\n",
    "            return key\n",
    "        else:\n",
    "            return None\n",
    "    \n",
    "orig_attr.could_match(decoded_attr)"
   ]
  },
  {
   "cell_type": "markdown",
   "metadata": {},
   "source": [
    "# Name"
   ]
  },
  {
   "cell_type": "code",
   "execution_count": 7,
   "metadata": {
    "collapsed": true
   },
   "outputs": [],
   "source": [
    "orig_name = m2m.Name.new(m2m.AttributeValue(country='US'),\n",
    "                         m2m.AttributeValue(organization='ACME corp.'),\n",
    "                         m2m.AttributeValue(locality='Fairfield')) # Its either stateOrProvince OR locality in spec page 16\n",
    "encoded_name = der_encoder.encode(orig_name)\n",
    "decoded_name = der_decoder.decode(encoded_name)[0]"
   ]
  },
  {
   "cell_type": "code",
   "execution_count": 9,
   "metadata": {
    "collapsed": false
   },
   "outputs": [
    {
     "data": {
      "text/plain": [
       "True"
      ]
     },
     "execution_count": 9,
     "metadata": {},
     "output_type": "execute_result"
    }
   ],
   "source": [
    "def could_match(self, other):\n",
    "    return all(a.could_match(b) for a, b in zip(self, other))\n",
    "\n",
    "could_match(orig_name, decoded_name)"
   ]
  },
  {
   "cell_type": "code",
   "execution_count": null,
   "metadata": {
    "collapsed": true
   },
   "outputs": [],
   "source": []
  }
 ],
 "metadata": {
  "kernelspec": {
   "display_name": "Python 3",
   "language": "python",
   "name": "python3"
  },
  "language_info": {
   "codemirror_mode": {
    "name": "ipython",
    "version": 3
   },
   "file_extension": ".py",
   "mimetype": "text/x-python",
   "name": "python",
   "nbconvert_exporter": "python",
   "pygments_lexer": "ipython3",
   "version": "3.5.1+"
  }
 },
 "nbformat": 4,
 "nbformat_minor": 0
}

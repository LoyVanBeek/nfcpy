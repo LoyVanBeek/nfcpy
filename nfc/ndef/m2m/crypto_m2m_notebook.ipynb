{
 "cells": [
  {
   "cell_type": "code",
   "execution_count": 198,
   "metadata": {
    "collapsed": false
   },
   "outputs": [
    {
     "data": {
      "text/plain": [
       "<Extensions([<Extension(oid=<ObjectIdentifier(oid=2.5.29.15, name=keyUsage)>, critical=True, value=<KeyUsage(digital_signature=False, content_commitment=False, key_encipherment=False, data_encipherment=False, key_agreement=False, key_cert_sign=True, crl_sign=True, encipher_only=None, decipher_only=None)>)>, <Extension(oid=<ObjectIdentifier(oid=2.5.29.19, name=basicConstraints)>, critical=True, value=<BasicConstraints(ca=True, path_length=None)>)>, <Extension(oid=<ObjectIdentifier(oid=2.5.29.14, name=subjectKeyIdentifier)>, critical=False, value=<SubjectKeyIdentifier(digest=b'T\\xb0{\\xadE\\xb8\\xe2@\\x7f\\xfb\\nn\\xfb\\xbe3\\xc9<\\xa3\\x84\\xd5')>)>])>"
      ]
     },
     "execution_count": 198,
     "metadata": {},
     "output_type": "execute_result"
    }
   ],
   "source": [
    "import binascii\n",
    "\n",
    "from cryptography import x509\n",
    "from cryptography.hazmat.backends import default_backend\n",
    "\n",
    "certificate_path = \"/etc/ssl/certs/GlobalSign_ECC_Root_CA_-_R4.pem\" #Certum_Trusted_Network_CA.pem\"\n",
    "cert_file = open(certificate_path, 'rb')\n",
    "pem_data = cert_file.read()\n",
    "cert = x509.load_pem_x509_certificate(pem_data, default_backend())\n",
    "cert.extensions"
   ]
  },
  {
   "cell_type": "code",
   "execution_count": 182,
   "metadata": {
    "collapsed": false
   },
   "outputs": [],
   "source": [
    "from nfc.ndef.m2m import m2m_certificate_format as m2m\n",
    "from nfc.ndef.m2m.m2m_certificate_format import *"
   ]
  },
  {
   "cell_type": "code",
   "execution_count": 183,
   "metadata": {
    "collapsed": false
   },
   "outputs": [],
   "source": [
    "#  name = cert.issuer or cert.subject\n",
    "def x509_name_to_m2m_name(x509_name):\n",
    "    oid2m2m_map = {\n",
    "               #'BUSINESS_CATEGORY', \n",
    "               'COMMON_NAME':'commonName', \n",
    "               'COUNTRY_NAME':'country', \n",
    "               'DN_QUALIFIER':'distinguishedNameQualifier', \n",
    "               'DOMAIN_COMPONENT':'domainComponent', \n",
    "               #'EMAIL_ADDRESS', \n",
    "               #'GENERATION_QUALIFIER', \n",
    "               #'GIVEN_NAME', \n",
    "               #'JURISDICTION_COUNTRY_NAME', \n",
    "               #'JURISDICTION_LOCALITY_NAME', \n",
    "               #'JURISDICTION_STATE_OR_PROVINCE_NAME', \n",
    "               'LOCALITY_NAME':'locality', \n",
    "               'ORGANIZATIONAL_UNIT_NAME':'organizationalUnit', \n",
    "               'ORGANIZATION_NAME':'organization', \n",
    "               #'PSEUDONYM', \n",
    "               'SERIAL_NUMBER':'serialNumber', \n",
    "               'STATE_OR_PROVINCE_NAME':'stateOrProvince', \n",
    "               #'SURNAME', \n",
    "               #'TITLE'\n",
    "                }\n",
    "\n",
    "    # Some fields of the M2M AttributeValue that do not fit with X.509 NameOIDs\n",
    "    # 'registeredId'\n",
    "    # 'octetsName'\n",
    "\n",
    "    from cryptography.x509.oid import NameOID\n",
    "    attrs = [attr for attr in dir(NameOID) if not attr.startswith('_')]  # Get all the possible attributes of a name\n",
    "#     print(attrs)\n",
    "\n",
    "    all_attrs = {attr:x509_name.get_attributes_for_oid(getattr(NameOID, attr)) for attr in attrs}  # Get all the attributes in that name, some may be empty\n",
    "    filled_attrs = {k: v for k, v in all_attrs.items() if v}  # Filter out the empty attributes\n",
    "    # print(filled_attrs)\n",
    "\n",
    "    m2m_attribute_values = []\n",
    "\n",
    "    for attr_name, filled_attr in filled_attrs.items():\n",
    "        attr = filled_attr[0]\n",
    "        m2m_attr_name = oid2m2m_map[attr_name]\n",
    "        m2m_attr_val = AttributeValue(**{m2m_attr_name:attr.value})\n",
    "        m2m_attribute_values += [m2m_attr_val]\n",
    "\n",
    "    m2m_name = Name.new(*m2m_attribute_values)\n",
    "    \n",
    "    return m2m_name\n",
    "\n",
    "m2m_issuer = x509_name_to_m2m_name(cert.issuer)\n",
    "m2m_subject = x509_name_to_m2m_name(cert.subject)"
   ]
  },
  {
   "cell_type": "code",
   "execution_count": 184,
   "metadata": {
    "collapsed": false
   },
   "outputs": [],
   "source": [
    "import datetime\n",
    "def x509_datetime_to_m2m_datetime(x509_datetime):\n",
    "    epoch = datetime.datetime.utcfromtimestamp(0)\n",
    "    seconds = (cert.not_valid_after - epoch).total_seconds()\n",
    "    return int(seconds).to_bytes(4, byteorder='big')\n",
    "\n",
    "def x509_validity_to_m2m_validity(x509_cert):\n",
    "    seconds = (x509_cert.not_valid_after - x509_cert.not_valid_before).total_seconds() # seconds since validFrom\n",
    "    validFrom = x509_datetime_to_m2m_datetime(x509_cert.not_valid_before)\n",
    "    validDuration = int(seconds).to_bytes(4, byteorder='big')\n",
    "    \n",
    "    return validFrom, validDuration"
   ]
  },
  {
   "cell_type": "code",
   "execution_count": 185,
   "metadata": {
    "collapsed": false
   },
   "outputs": [
    {
     "name": "stdout",
     "output_type": "stream",
     "text": [
      "b'3059301306072a8648ce3d020106082a8648ce3d03010703420004b8c679d38f6c250e9f2e39191c03a4ae9ae539070916ca63b1b986f88a57c157ce42fa73a1f76542ff1ec100b26e730effc721e518a4aad9713fa8d4b9ce8c1d'\n"
     ]
    }
   ],
   "source": [
    "from cryptography.hazmat.primitives.serialization import Encoding\n",
    "from cryptography.hazmat.primitives.serialization import PublicFormat\n",
    "m2m_public_key = cert.public_key().public_bytes(Encoding.DER, PublicFormat.SubjectPublicKeyInfo)\n",
    "print(binascii.hexlify(m2m_public_key))"
   ]
  },
  {
   "cell_type": "markdown",
   "metadata": {},
   "source": [
    "As pointed out by CloudFlare (https://blog.cloudflare.com/ecdsa-the-digital-signature-algorithm-of-a-better-internet/), not many Certificate Authorities use ECC. The combination with SHA256 is even more rare: I haven't found such a certificate preinstalled on a standard Ubuntu 16.04 box that uses ECC & SHA256. "
   ]
  },
  {
   "cell_type": "code",
   "execution_count": 191,
   "metadata": {
    "collapsed": false
   },
   "outputs": [
    {
     "name": "stdout",
     "output_type": "stream",
     "text": [
      "(<AlgorithmObjectIdentifiers.ecdsa_with_sha256_secp256r1: ObjectIdentifier('2.16.840.1.114513.1.9')>, b'\\x06\\x08*\\x86H\\xce=\\x03\\x01\\x07')\n"
     ]
    }
   ],
   "source": [
    "algo_mapping = {\n",
    "    (ec.EllipticCurvePublicKey, hashes.SHA256, ec.SECP192R1):AlgorithmObjectIdentifiers.ecdsa_with_sha256_secp192r1,\n",
    "    (ec.EllipticCurvePublicKey, hashes.SHA256, ec.SECP224R1):AlgorithmObjectIdentifiers.ecdsa_with_sha256_secp224r1,\n",
    "    (ec.EllipticCurvePublicKey, hashes.SHA256, ec.SECT233K1):AlgorithmObjectIdentifiers.ecdsa_with_sha256_sect233k1,\n",
    "    #(ec.EllipticCurvePublicKey, hashes.SHA256, ec.SECP223R1):AlgorithmObjectIdentifiers.ecdsa_with_sha256_sect233r1,\n",
    "    (\"algo\", hashes.SHA256, ec.SECP192R1):                   AlgorithmObjectIdentifiers.ecqv_with_sha256_secp192r1,\n",
    "    (\"algo\", hashes.SHA256, ec.SECP224R1):                   AlgorithmObjectIdentifiers.ecqv_with_sha256_secp224r1,\n",
    "    (\"algo\", hashes.SHA256, ec.SECT233K1):                   AlgorithmObjectIdentifiers.ecqv_with_sha256_sect233k1,\n",
    "    #(\"algo\", hashes.SHA256, ec.SECP223R1):                   AlgorithmObjectIdentifiers.ecqv_with_sha256_sect233r1,\n",
    "    (rsa.RSAPublicKey, hashes.SHA256, None):                 AlgorithmObjectIdentifiers.rsa_with_sha256,\n",
    "    (ec.EllipticCurvePublicKey, hashes.SHA256, ec.SECP256R1):AlgorithmObjectIdentifiers.ecdsa_with_sha256_secp256r1,\n",
    "    (\"algo\", hashes.SHA256, ec.SECP256R1):                   AlgorithmObjectIdentifiers.ecqv_with_sha256_secp256r1\n",
    "    }\n",
    "\n",
    "# See RFC 5480, section 2.1.1.1.  Named Curve \n",
    "ec_curve_oid_map = {\n",
    "    ec.SECP192R1: \"1.2.840.10045.3.1.1\", #http://oid-info.com/get/1.2.840.10045.3.1.1\n",
    "    ec.SECP224R1: \"1.3.132.0.33\", #http://oid-info.com/get/1.3.132.0.33\n",
    "    ec.SECT233K1: \"1.3.132.0.26\", #http://oid-info.com/get/1.3.132.0.26\n",
    "    ec.SECP256R1: \"1.2.840.10045.3.1.7\" #http://oid-info.com/get/1.2.840.10045.3.1.7\n",
    "}\n",
    "from pyasn1.type import univ\n",
    "from pyasn1.codec.der import encoder as der_encoder\n",
    "\n",
    "def x509_algo_to_m2m_cAAlgorithm(x509_cert):\n",
    "    public_key = x509_cert.public_key()\n",
    "\n",
    "    try:\n",
    "        if isinstance(public_key, rsa.RSAPublicKey):\n",
    "            return (algo_mapping[(rsa.RSAPublicKey, \n",
    "                            type(x509_cert.signature_hash_algorithm), \n",
    "                            None)], None)\n",
    "        elif isinstance(public_key, dsa.DSAPublicKey): # Not supported by M2M though\n",
    "            return (algo_mapping[(dsa.DSAPublicKey, \n",
    "                            type(x509_cert.signature_hash_algorithm), \n",
    "                            None)], None) \n",
    "        elif isinstance(public_key, ec.EllipticCurvePublicKey):\n",
    "            return (algo_mapping[(ec.EllipticCurvePublicKey, \n",
    "                            type(x509_cert.signature_hash_algorithm), \n",
    "                            type(public_key.curve))], \n",
    "                    der_encoder.encode(univ.ObjectIdentifier(ec_curve_oid_map[type(public_key.curve)])))\n",
    "    except KeyError as key_error:\n",
    "        print(\"Certificate cannot be converted to M2M, an algorithm cannot be encoded\".format(key_error))\n",
    "        raise key_error\n",
    "    \n",
    "ca_algo = x509_algo_to_m2m_cAAlgorithm(cert)\n",
    "print(ca_algo)"
   ]
  },
  {
   "cell_type": "code",
   "execution_count": 195,
   "metadata": {
    "collapsed": false
   },
   "outputs": [],
   "source": [
    "validFrom, validDuration = x509_validity_to_m2m_validity(cert)\n",
    "\n",
    "tbs = TBSCertificate.new(version=0,\n",
    "                         serialNumber=int(cert.serial_number).to_bytes(20, byteorder='big'),\n",
    "                         subject=m2m_subject,\n",
    "                         cAAlgorithm=str(ca_algo[0].value),\n",
    "                         cAAlgParams=ca_algo[1], # EC PARAMETERS/Name: elliptic curve: http://oid-info.com/get/1.2.840.10045.3.1.7\n",
    "                         issuer=m2m_issuer,\n",
    "                         validFrom=validFrom, # optional\n",
    "                         validDuration=validDuration,  # seconds since validFrom, optional\n",
    "                         pKAlgorithm=str(ca_algo[0].value),  # Same as cAAlgorithm\n",
    "                         # pKAlgParams=\"1.2.3.4\", #Optional\n",
    "                         pubKey=m2m_public_key,\n",
    "                         # authKeyId=authkey, optional, See https://tools.ietf.org/html/rfc5280#section-4.2.1.1 for explanation\n",
    "                         #subjKeyId=int(1).to_bytes(1, byteorder='big'),  # Key ID of the subject (which number do we give the private key?)\n",
    "                         #keyUsage=0b10100000.to_bytes(1, byteorder='big'), # digitalSignature & keyEncipherment bit set\n",
    "                         # See https://tools.ietf.org/html/rfc5280#section-4.2.1.3\n",
    "                         #certificatePolicy=\"2.5.29.32.0\",  # Anypolicy: http://www.oid-info.com/get/2.5.29.32.0\n",
    "                         )"
   ]
  },
  {
   "cell_type": "code",
   "execution_count": 196,
   "metadata": {
    "collapsed": false
   },
   "outputs": [
    {
     "data": {
      "text/plain": [
       "b'0\\x82\\x01\\x0f\\x04\\x14\\x00\\x00\\x00*8\\xa4\\x1c\\x96\\n\\x04\\xdeB\\xb2(\\xa5\\x0b\\xe84\\x98\\x02\\x06\\t`\\x86H\\x01\\x86\\xfeQ\\x01\\t\\x04\\n\\x06\\x08*\\x86H\\xce=\\x03\\x01\\x0705\\x0c\\nGlobalSign\\x0c\\x1bGlobalSign ECC Root CA - R4\\x0c\\nGlobalSign\\x04\\x04\\x7f\\xff\\xff\\xff\\x04\\x04/^r\\x7f05\\x0c\\nGlobalSign\\x0c\\x1bGlobalSign ECC Root CA - R4\\x0c\\nGlobalSign\\x06\\t`\\x86H\\x01\\x86\\xfeQ\\x01\\t\\x04[0Y0\\x13\\x06\\x07*\\x86H\\xce=\\x02\\x01\\x06\\x08*\\x86H\\xce=\\x03\\x01\\x07\\x03B\\x00\\x04\\xb8\\xc6y\\xd3\\x8fl%\\x0e\\x9f.9\\x19\\x1c\\x03\\xa4\\xae\\x9a\\xe59\\x07\\t\\x16\\xcac\\xb1\\xb9\\x86\\xf8\\x8aW\\xc1W\\xceB\\xfas\\xa1\\xf7eB\\xff\\x1e\\xc1\\x00\\xb2ns\\x0e\\xff\\xc7!\\xe5\\x18\\xa4\\xaa\\xd9q?\\xa8\\xd4\\xb9\\xce\\x8c\\x1d'"
      ]
     },
     "execution_count": 196,
     "metadata": {},
     "output_type": "execute_result"
    }
   ],
   "source": [
    "der_encoder.encode(tbs)"
   ]
  },
  {
   "cell_type": "code",
   "execution_count": 193,
   "metadata": {
    "collapsed": false
   },
   "outputs": [
    {
     "ename": "ValueError",
     "evalue": "EC public keys do not support PKCS1 serialization",
     "output_type": "error",
     "traceback": [
      "\u001b[0;31m---------------------------------------------------------------------------\u001b[0m",
      "\u001b[0;31mValueError\u001b[0m                                Traceback (most recent call last)",
      "\u001b[0;32m<ipython-input-193-84ab68992821>\u001b[0m in \u001b[0;36m<module>\u001b[0;34m()\u001b[0m\n\u001b[1;32m      1\u001b[0m \u001b[0;31m# See https://cryptography.io/en/latest/hazmat/primitives/asymmetric/serialization/#cryptography.hazmat.primitives.serialization.PublicFormat\u001b[0m\u001b[0;34m\u001b[0m\u001b[0;34m\u001b[0m\u001b[0m\n\u001b[0;32m----> 2\u001b[0;31m \u001b[0mm2m_public_key_pkcs1\u001b[0m \u001b[0;34m=\u001b[0m \u001b[0mcert\u001b[0m\u001b[0;34m.\u001b[0m\u001b[0mpublic_key\u001b[0m\u001b[0;34m(\u001b[0m\u001b[0;34m)\u001b[0m\u001b[0;34m.\u001b[0m\u001b[0mpublic_bytes\u001b[0m\u001b[0;34m(\u001b[0m\u001b[0mEncoding\u001b[0m\u001b[0;34m.\u001b[0m\u001b[0mDER\u001b[0m\u001b[0;34m,\u001b[0m \u001b[0mPublicFormat\u001b[0m\u001b[0;34m.\u001b[0m\u001b[0mPKCS1\u001b[0m\u001b[0;34m)\u001b[0m \u001b[0;31m# only has the public key\u001b[0m\u001b[0;34m\u001b[0m\u001b[0m\n\u001b[0m\u001b[1;32m      3\u001b[0m \u001b[0mm2m_public_key_spki\u001b[0m \u001b[0;34m=\u001b[0m \u001b[0mcert\u001b[0m\u001b[0;34m.\u001b[0m\u001b[0mpublic_key\u001b[0m\u001b[0;34m(\u001b[0m\u001b[0;34m)\u001b[0m\u001b[0;34m.\u001b[0m\u001b[0mpublic_bytes\u001b[0m\u001b[0;34m(\u001b[0m\u001b[0mEncoding\u001b[0m\u001b[0;34m.\u001b[0m\u001b[0mDER\u001b[0m\u001b[0;34m,\u001b[0m \u001b[0mPublicFormat\u001b[0m\u001b[0;34m.\u001b[0m\u001b[0mSubjectPublicKeyInfo\u001b[0m\u001b[0;34m)\u001b[0m \u001b[0;31m# also has the algorithm identifier\u001b[0m\u001b[0;34m\u001b[0m\u001b[0m\n\u001b[1;32m      4\u001b[0m \u001b[0;34m\u001b[0m\u001b[0m\n\u001b[1;32m      5\u001b[0m \u001b[0mprint\u001b[0m\u001b[0;34m(\u001b[0m\u001b[0mbinascii\u001b[0m\u001b[0;34m.\u001b[0m\u001b[0mhexlify\u001b[0m\u001b[0;34m(\u001b[0m\u001b[0mm2m_public_key_pkcs1\u001b[0m\u001b[0;34m)\u001b[0m\u001b[0;34m)\u001b[0m\u001b[0;34m\u001b[0m\u001b[0m\n",
      "\u001b[0;32m/usr/local/lib/python3.5/dist-packages/cryptography/hazmat/backends/openssl/ec.py\u001b[0m in \u001b[0;36mpublic_bytes\u001b[0;34m(self, encoding, format)\u001b[0m\n\u001b[1;32m    294\u001b[0m         \u001b[0;32mif\u001b[0m \u001b[0mformat\u001b[0m \u001b[0;32mis\u001b[0m \u001b[0mserialization\u001b[0m\u001b[0;34m.\u001b[0m\u001b[0mPublicFormat\u001b[0m\u001b[0;34m.\u001b[0m\u001b[0mPKCS1\u001b[0m\u001b[0;34m:\u001b[0m\u001b[0;34m\u001b[0m\u001b[0m\n\u001b[1;32m    295\u001b[0m             raise ValueError(\n\u001b[0;32m--> 296\u001b[0;31m                 \u001b[0;34m\"EC public keys do not support PKCS1 serialization\"\u001b[0m\u001b[0;34m\u001b[0m\u001b[0m\n\u001b[0m\u001b[1;32m    297\u001b[0m             )\n\u001b[1;32m    298\u001b[0m \u001b[0;34m\u001b[0m\u001b[0m\n",
      "\u001b[0;31mValueError\u001b[0m: EC public keys do not support PKCS1 serialization"
     ]
    }
   ],
   "source": [
    "# See https://cryptography.io/en/latest/hazmat/primitives/asymmetric/serialization/#cryptography.hazmat.primitives.serialization.PublicFormat\n",
    "m2m_public_key_pkcs1 = cert.public_key().public_bytes(Encoding.DER, PublicFormat.PKCS1) # only has the public key\n",
    "m2m_public_key_spki = cert.public_key().public_bytes(Encoding.DER, PublicFormat.SubjectPublicKeyInfo) # also has the algorithm identifier\n",
    "\n",
    "print(binascii.hexlify(m2m_public_key_pkcs1))\n",
    "print()\n",
    "print(binascii.hexlify(m2m_public_key_spki))\n",
    "\n",
    "difflen = len(m2m_public_key_spki) - len(m2m_public_key_pkcs1)\n",
    "algo_identifier = m2m_public_key_pkcs1[:difflen]\n",
    "\n",
    "print()\n",
    "\n",
    "print(binascii.hexlify(algo_identifier))"
   ]
  },
  {
   "cell_type": "code",
   "execution_count": null,
   "metadata": {
    "collapsed": true
   },
   "outputs": [],
   "source": []
  }
 ],
 "metadata": {
  "kernelspec": {
   "display_name": "Python 3",
   "language": "python",
   "name": "python3"
  },
  "language_info": {
   "codemirror_mode": {
    "name": "ipython",
    "version": 3
   },
   "file_extension": ".py",
   "mimetype": "text/x-python",
   "name": "python",
   "nbconvert_exporter": "python",
   "pygments_lexer": "ipython3",
   "version": "3.5.1+"
  }
 },
 "nbformat": 4,
 "nbformat_minor": 0
}
